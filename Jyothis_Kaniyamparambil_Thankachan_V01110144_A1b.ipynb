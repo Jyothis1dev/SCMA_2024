{
 "cells": [
  {
   "cell_type": "code",
   "execution_count": 73,
   "id": "9d35296f",
   "metadata": {
    "ExecuteTime": {
     "end_time": "2024-06-17T18:40:55.517191Z",
     "start_time": "2024-06-17T18:40:55.501554Z"
    }
   },
   "outputs": [],
   "source": [
    "import os\n",
    "import pandas as pd\n",
    "import numpy as np\n",
    "import matplotlib.pyplot as plt\n",
    "import seaborn as sns"
   ]
  },
  {
   "cell_type": "code",
   "execution_count": 74,
   "id": "ccea5d65",
   "metadata": {
    "ExecuteTime": {
     "end_time": "2024-06-17T18:41:02.872798Z",
     "start_time": "2024-06-17T18:41:02.864783Z"
    }
   },
   "outputs": [],
   "source": [
    "os.chdir('D:\\\\Assignments_SCMA632')"
   ]
  },
  {
   "cell_type": "code",
   "execution_count": 75,
   "id": "4e18af9c",
   "metadata": {
    "ExecuteTime": {
     "end_time": "2024-06-17T18:45:43.893820Z",
     "start_time": "2024-06-17T18:45:41.588693Z"
    }
   },
   "outputs": [],
   "source": [
    "ipl_bbb = pd.read_csv('IPL_ball_by_ball_updated till 2024.csv',low_memory=False)"
   ]
  },
  {
   "cell_type": "code",
   "execution_count": 76,
   "id": "c9f1dae5",
   "metadata": {
    "ExecuteTime": {
     "end_time": "2024-06-17T18:42:45.099983Z",
     "start_time": "2024-06-17T18:42:44.158183Z"
    }
   },
   "outputs": [],
   "source": [
    "ipl_salary = pd.read_excel('IPL SALARIES 2024.xlsx')"
   ]
  },
  {
   "cell_type": "code",
   "execution_count": 77,
   "id": "890ec4e9",
   "metadata": {
    "ExecuteTime": {
     "end_time": "2024-06-17T20:11:18.415809Z",
     "start_time": "2024-06-17T20:11:18.401437Z"
    }
   },
   "outputs": [
    {
     "data": {
      "text/html": [
       "<div>\n",
       "<style scoped>\n",
       "    .dataframe tbody tr th:only-of-type {\n",
       "        vertical-align: middle;\n",
       "    }\n",
       "\n",
       "    .dataframe tbody tr th {\n",
       "        vertical-align: top;\n",
       "    }\n",
       "\n",
       "    .dataframe thead th {\n",
       "        text-align: right;\n",
       "    }\n",
       "</style>\n",
       "<table border=\"1\" class=\"dataframe\">\n",
       "  <thead>\n",
       "    <tr style=\"text-align: right;\">\n",
       "      <th></th>\n",
       "      <th>Player</th>\n",
       "      <th>Salary</th>\n",
       "      <th>Rs</th>\n",
       "      <th>international</th>\n",
       "      <th>iconic</th>\n",
       "    </tr>\n",
       "  </thead>\n",
       "  <tbody>\n",
       "    <tr>\n",
       "      <th>0</th>\n",
       "      <td>Abhishek Porel</td>\n",
       "      <td>20 lakh</td>\n",
       "      <td>20</td>\n",
       "      <td>0</td>\n",
       "      <td>NaN</td>\n",
       "    </tr>\n",
       "    <tr>\n",
       "      <th>1</th>\n",
       "      <td>Anrich Nortje</td>\n",
       "      <td>6.5 crore</td>\n",
       "      <td>650</td>\n",
       "      <td>1</td>\n",
       "      <td>NaN</td>\n",
       "    </tr>\n",
       "  </tbody>\n",
       "</table>\n",
       "</div>"
      ],
      "text/plain": [
       "           Player     Salary   Rs  international  iconic\n",
       "0  Abhishek Porel    20 lakh   20              0     NaN\n",
       "1   Anrich Nortje  6.5 crore  650              1     NaN"
      ]
     },
     "execution_count": 77,
     "metadata": {},
     "output_type": "execute_result"
    }
   ],
   "source": [
    "ipl_salary.head(2)"
   ]
  },
  {
   "cell_type": "code",
   "execution_count": 78,
   "id": "00ad1fbf",
   "metadata": {
    "ExecuteTime": {
     "end_time": "2024-06-17T18:47:30.678527Z",
     "start_time": "2024-06-17T18:47:30.373074Z"
    }
   },
   "outputs": [],
   "source": [
    "grouped_data = ipl_bbb.groupby(['Season', 'Innings No', 'Striker','Bowler']).agg({'runs_scored': sum, 'wicket_confirmation':sum}).reset_index()"
   ]
  },
  {
   "cell_type": "code",
   "execution_count": 79,
   "id": "331874aa",
   "metadata": {
    "ExecuteTime": {
     "end_time": "2024-06-17T18:50:49.018065Z",
     "start_time": "2024-06-17T18:50:48.948158Z"
    }
   },
   "outputs": [],
   "source": [
    "player_runs = grouped_data.groupby(['Season', 'Striker'])['runs_scored'].sum().reset_index()\n",
    "player_wickets = grouped_data.groupby(['Season', 'Bowler'])['wicket_confirmation'].sum().reset_index()"
   ]
  },
  {
   "cell_type": "code",
   "execution_count": 80,
   "id": "91b9ac8b",
   "metadata": {
    "ExecuteTime": {
     "end_time": "2024-06-17T18:52:26.118735Z",
     "start_time": "2024-06-17T18:52:26.083040Z"
    }
   },
   "outputs": [
    {
     "data": {
      "text/html": [
       "<div>\n",
       "<style scoped>\n",
       "    .dataframe tbody tr th:only-of-type {\n",
       "        vertical-align: middle;\n",
       "    }\n",
       "\n",
       "    .dataframe tbody tr th {\n",
       "        vertical-align: top;\n",
       "    }\n",
       "\n",
       "    .dataframe thead th {\n",
       "        text-align: right;\n",
       "    }\n",
       "</style>\n",
       "<table border=\"1\" class=\"dataframe\">\n",
       "  <thead>\n",
       "    <tr style=\"text-align: right;\">\n",
       "      <th></th>\n",
       "      <th>Season</th>\n",
       "      <th>Striker</th>\n",
       "      <th>runs_scored</th>\n",
       "    </tr>\n",
       "  </thead>\n",
       "  <tbody>\n",
       "    <tr>\n",
       "      <th>2423</th>\n",
       "      <td>2023</td>\n",
       "      <td>Shubman Gill</td>\n",
       "      <td>890</td>\n",
       "    </tr>\n",
       "    <tr>\n",
       "      <th>2313</th>\n",
       "      <td>2023</td>\n",
       "      <td>F du Plessis</td>\n",
       "      <td>730</td>\n",
       "    </tr>\n",
       "    <tr>\n",
       "      <th>2311</th>\n",
       "      <td>2023</td>\n",
       "      <td>DP Conway</td>\n",
       "      <td>672</td>\n",
       "    </tr>\n",
       "    <tr>\n",
       "      <th>2433</th>\n",
       "      <td>2023</td>\n",
       "      <td>V Kohli</td>\n",
       "      <td>639</td>\n",
       "    </tr>\n",
       "    <tr>\n",
       "      <th>2443</th>\n",
       "      <td>2023</td>\n",
       "      <td>YBK Jaiswal</td>\n",
       "      <td>625</td>\n",
       "    </tr>\n",
       "    <tr>\n",
       "      <th>...</th>\n",
       "      <td>...</td>\n",
       "      <td>...</td>\n",
       "      <td>...</td>\n",
       "    </tr>\n",
       "    <tr>\n",
       "      <th>2404</th>\n",
       "      <td>2023</td>\n",
       "      <td>RP Meredith</td>\n",
       "      <td>0</td>\n",
       "    </tr>\n",
       "    <tr>\n",
       "      <th>2372</th>\n",
       "      <td>2023</td>\n",
       "      <td>Mohsin Khan</td>\n",
       "      <td>0</td>\n",
       "    </tr>\n",
       "    <tr>\n",
       "      <th>2307</th>\n",
       "      <td>2023</td>\n",
       "      <td>DG Nalkande</td>\n",
       "      <td>0</td>\n",
       "    </tr>\n",
       "    <tr>\n",
       "      <th>2429</th>\n",
       "      <td>2023</td>\n",
       "      <td>TU Deshpande</td>\n",
       "      <td>0</td>\n",
       "    </tr>\n",
       "    <tr>\n",
       "      <th>2324</th>\n",
       "      <td>2023</td>\n",
       "      <td>Harshit Rana</td>\n",
       "      <td>0</td>\n",
       "    </tr>\n",
       "  </tbody>\n",
       "</table>\n",
       "<p>177 rows × 3 columns</p>\n",
       "</div>"
      ],
      "text/plain": [
       "     Season       Striker  runs_scored\n",
       "2423   2023  Shubman Gill          890\n",
       "2313   2023  F du Plessis          730\n",
       "2311   2023     DP Conway          672\n",
       "2433   2023       V Kohli          639\n",
       "2443   2023   YBK Jaiswal          625\n",
       "...     ...           ...          ...\n",
       "2404   2023   RP Meredith            0\n",
       "2372   2023   Mohsin Khan            0\n",
       "2307   2023   DG Nalkande            0\n",
       "2429   2023  TU Deshpande            0\n",
       "2324   2023  Harshit Rana            0\n",
       "\n",
       "[177 rows x 3 columns]"
      ]
     },
     "execution_count": 80,
     "metadata": {},
     "output_type": "execute_result"
    }
   ],
   "source": [
    "player_runs[player_runs['Season']=='2023'].sort_values(by='runs_scored',ascending=False)"
   ]
  },
  {
   "cell_type": "code",
   "execution_count": 81,
   "id": "42fc1a03",
   "metadata": {
    "ExecuteTime": {
     "end_time": "2024-06-17T18:54:34.052611Z",
     "start_time": "2024-06-17T18:54:33.921973Z"
    }
   },
   "outputs": [
    {
     "name": "stdout",
     "output_type": "stream",
     "text": [
      "Top Three Run Getters:\n",
      "     Season          Striker  runs_scored\n",
      "0   2007/08         SE Marsh          616\n",
      "1   2007/08        G Gambhir          534\n",
      "2   2007/08    ST Jayasuriya          514\n",
      "3      2009        ML Hayden          572\n",
      "4      2009     AC Gilchrist          495\n",
      "5      2009   AB de Villiers          465\n",
      "6   2009/10     SR Tendulkar          618\n",
      "7   2009/10        JH Kallis          572\n",
      "8   2009/10         SK Raina          528\n",
      "9      2011         CH Gayle          608\n",
      "10     2011          V Kohli          557\n",
      "11     2011     SR Tendulkar          553\n",
      "12     2012         CH Gayle          733\n",
      "13     2012        G Gambhir          590\n",
      "14     2012         S Dhawan          569\n",
      "15     2013       MEK Hussey          733\n",
      "16     2013         CH Gayle          720\n",
      "17     2013          V Kohli          639\n",
      "18     2014       RV Uthappa          660\n",
      "19     2014         DR Smith          566\n",
      "20     2014       GJ Maxwell          552\n",
      "21     2015        DA Warner          562\n",
      "22     2015        AM Rahane          540\n",
      "23     2015      LMP Simmons          540\n",
      "24     2016          V Kohli          973\n",
      "25     2016        DA Warner          848\n",
      "26     2016   AB de Villiers          687\n",
      "27     2017        DA Warner          641\n",
      "28     2017        G Gambhir          498\n",
      "29     2017         S Dhawan          479\n",
      "30     2018    KS Williamson          735\n",
      "31     2018          RR Pant          684\n",
      "32     2018         KL Rahul          659\n",
      "33     2019        DA Warner          692\n",
      "34     2019         KL Rahul          593\n",
      "35     2019        Q de Kock          529\n",
      "36  2020/21         KL Rahul          676\n",
      "37  2020/21         S Dhawan          618\n",
      "38  2020/21        DA Warner          548\n",
      "39     2021       RD Gaikwad          635\n",
      "40     2021     F du Plessis          633\n",
      "41     2021         KL Rahul          626\n",
      "42     2022       JC Buttler          863\n",
      "43     2022         KL Rahul          616\n",
      "44     2022        Q de Kock          508\n",
      "45     2023     Shubman Gill          890\n",
      "46     2023     F du Plessis          730\n",
      "47     2023        DP Conway          672\n",
      "48     2024       RD Gaikwad          509\n",
      "49     2024          V Kohli          500\n",
      "50     2024  B Sai Sudharsan          418\n",
      "Top Three Wicket Takers:\n",
      "     Season           Bowler  wicket_confirmation\n",
      "0   2007/08    Sohail Tanvir                   24\n",
      "1   2007/08        IK Pathan                   20\n",
      "2   2007/08        JA Morkel                   20\n",
      "3      2009         RP Singh                   26\n",
      "4      2009         A Kumble                   22\n",
      "5      2009          A Nehra                   22\n",
      "6   2009/10          PP Ojha                   22\n",
      "7   2009/10         A Mishra                   20\n",
      "8   2009/10  Harbhajan Singh                   20\n",
      "9      2011       SL Malinga                   30\n",
      "10     2011         MM Patel                   22\n",
      "11     2011        S Aravind                   22\n",
      "12     2012         M Morkel                   30\n",
      "13     2012        SP Narine                   29\n",
      "14     2012       SL Malinga                   25\n",
      "15     2013         DJ Bravo                   34\n",
      "16     2013      JP Faulkner                   33\n",
      "17     2013    R Vinay Kumar                   27\n",
      "18     2014        MM Sharma                   26\n",
      "19     2014        SP Narine                   22\n",
      "20     2014          B Kumar                   21\n",
      "21     2015         DJ Bravo                   28\n",
      "22     2015       SL Malinga                   26\n",
      "23     2015          A Nehra                   25\n",
      "24     2016          B Kumar                   24\n",
      "25     2016        SR Watson                   23\n",
      "26     2016        YS Chahal                   22\n",
      "27     2017          B Kumar                   28\n",
      "28     2017       JD Unadkat                   27\n",
      "29     2017        JJ Bumrah                   23\n",
      "30     2018           AJ Tye                   28\n",
      "31     2018           S Kaul                   24\n",
      "32     2018      Rashid Khan                   23\n",
      "33     2019         K Rabada                   29\n",
      "34     2019      Imran Tahir                   26\n",
      "35     2019        JJ Bumrah                   23\n",
      "36  2020/21         K Rabada                   32\n",
      "37  2020/21        JJ Bumrah                   30\n",
      "38  2020/21         TA Boult                   26\n",
      "39     2021         HV Patel                   35\n",
      "40     2021       Avesh Khan                   27\n",
      "41     2021        JJ Bumrah                   22\n",
      "42     2022        YS Chahal                   29\n",
      "43     2022     PWH de Silva                   27\n",
      "44     2022         K Rabada                   23\n",
      "45     2023        MM Sharma                   31\n",
      "46     2023   Mohammed Shami                   28\n",
      "47     2023      Rashid Khan                   28\n",
      "48     2024         HV Patel                   19\n",
      "49     2024     Mukesh Kumar                   15\n",
      "50     2024   Arshdeep Singh                   14\n"
     ]
    }
   ],
   "source": [
    "top_run_getters = player_runs.groupby('Season').apply(lambda x: x.nlargest(3, 'runs_scored')).reset_index(drop=True)\n",
    "bottom_wicket_takers = player_wickets.groupby('Season').apply(lambda x: x.nlargest(3, 'wicket_confirmation')).reset_index(drop=True)\n",
    "print(\"Top Three Run Getters:\")\n",
    "print(top_run_getters)\n",
    "print(\"Top Three Wicket Takers:\")\n",
    "print(bottom_wicket_takers)"
   ]
  },
  {
   "cell_type": "code",
   "execution_count": 82,
   "id": "1d8cefcb",
   "metadata": {
    "ExecuteTime": {
     "end_time": "2024-06-17T18:59:43.066908Z",
     "start_time": "2024-06-17T18:59:42.895193Z"
    },
    "scrolled": true
   },
   "outputs": [],
   "source": [
    "ipl_year_id = pd.DataFrame(columns=[\"id\", \"year\"])\n",
    "ipl_year_id[\"id\"] = ipl_bbb[\"Match id\"]\n",
    "ipl_year_id[\"year\"] = pd.to_datetime(ipl_bbb[\"Date\"], dayfirst=True).dt.year"
   ]
  },
  {
   "cell_type": "code",
   "execution_count": 83,
   "id": "1ca892df",
   "metadata": {
    "ExecuteTime": {
     "end_time": "2024-06-17T19:08:09.199794Z",
     "start_time": "2024-06-17T19:08:09.036239Z"
    }
   },
   "outputs": [],
   "source": [
    "#create a copy of ipl_bbbc dataframe\n",
    "ipl_bbbc= ipl_bbb.copy()"
   ]
  },
  {
   "cell_type": "code",
   "execution_count": 84,
   "id": "05e04474",
   "metadata": {
    "ExecuteTime": {
     "end_time": "2024-06-17T19:08:28.976414Z",
     "start_time": "2024-06-17T19:08:28.839397Z"
    }
   },
   "outputs": [],
   "source": [
    "ipl_bbbc['year'] = pd.to_datetime(ipl_bbb[\"Date\"], dayfirst=True).dt.year"
   ]
  },
  {
   "cell_type": "code",
   "execution_count": 85,
   "id": "695a2d7f",
   "metadata": {
    "ExecuteTime": {
     "end_time": "2024-06-17T19:09:02.819985Z",
     "start_time": "2024-06-17T19:09:02.760242Z"
    }
   },
   "outputs": [
    {
     "data": {
      "text/html": [
       "<div>\n",
       "<style scoped>\n",
       "    .dataframe tbody tr th:only-of-type {\n",
       "        vertical-align: middle;\n",
       "    }\n",
       "\n",
       "    .dataframe tbody tr th {\n",
       "        vertical-align: top;\n",
       "    }\n",
       "\n",
       "    .dataframe thead th {\n",
       "        text-align: right;\n",
       "    }\n",
       "</style>\n",
       "<table border=\"1\" class=\"dataframe\">\n",
       "  <thead>\n",
       "    <tr style=\"text-align: right;\">\n",
       "      <th></th>\n",
       "      <th>Match id</th>\n",
       "      <th>year</th>\n",
       "      <th>runs_scored</th>\n",
       "      <th>wicket_confirmation</th>\n",
       "      <th>Bowler</th>\n",
       "      <th>Striker</th>\n",
       "    </tr>\n",
       "  </thead>\n",
       "  <tbody>\n",
       "    <tr>\n",
       "      <th>0</th>\n",
       "      <td>335982</td>\n",
       "      <td>2008</td>\n",
       "      <td>0</td>\n",
       "      <td>0</td>\n",
       "      <td>P Kumar</td>\n",
       "      <td>SC Ganguly</td>\n",
       "    </tr>\n",
       "    <tr>\n",
       "      <th>1</th>\n",
       "      <td>335982</td>\n",
       "      <td>2008</td>\n",
       "      <td>0</td>\n",
       "      <td>0</td>\n",
       "      <td>P Kumar</td>\n",
       "      <td>BB McCullum</td>\n",
       "    </tr>\n",
       "    <tr>\n",
       "      <th>2</th>\n",
       "      <td>335982</td>\n",
       "      <td>2008</td>\n",
       "      <td>0</td>\n",
       "      <td>0</td>\n",
       "      <td>P Kumar</td>\n",
       "      <td>BB McCullum</td>\n",
       "    </tr>\n",
       "    <tr>\n",
       "      <th>3</th>\n",
       "      <td>335982</td>\n",
       "      <td>2008</td>\n",
       "      <td>0</td>\n",
       "      <td>0</td>\n",
       "      <td>P Kumar</td>\n",
       "      <td>BB McCullum</td>\n",
       "    </tr>\n",
       "    <tr>\n",
       "      <th>4</th>\n",
       "      <td>335982</td>\n",
       "      <td>2008</td>\n",
       "      <td>0</td>\n",
       "      <td>0</td>\n",
       "      <td>P Kumar</td>\n",
       "      <td>BB McCullum</td>\n",
       "    </tr>\n",
       "  </tbody>\n",
       "</table>\n",
       "</div>"
      ],
      "text/plain": [
       "   Match id  year  runs_scored  wicket_confirmation   Bowler      Striker\n",
       "0    335982  2008            0                    0  P Kumar   SC Ganguly\n",
       "1    335982  2008            0                    0  P Kumar  BB McCullum\n",
       "2    335982  2008            0                    0  P Kumar  BB McCullum\n",
       "3    335982  2008            0                    0  P Kumar  BB McCullum\n",
       "4    335982  2008            0                    0  P Kumar  BB McCullum"
      ]
     },
     "execution_count": 85,
     "metadata": {},
     "output_type": "execute_result"
    }
   ],
   "source": [
    "ipl_bbbc[[\"Match id\", \"year\", \"runs_scored\",\"wicket_confirmation\",\"Bowler\",'Striker']].head()"
   ]
  },
  {
   "cell_type": "code",
   "execution_count": 86,
   "id": "85783410",
   "metadata": {
    "ExecuteTime": {
     "end_time": "2024-06-17T19:11:39.865256Z",
     "start_time": "2024-06-17T19:11:39.853673Z"
    }
   },
   "outputs": [],
   "source": [
    "import scipy.stats as st\n",
    "\n",
    "def get_best_distribution(data):\n",
    "    dist_names = ['alpha','beta','betaprime','burr12','crystalball',\n",
    "                  'dgamma','dweibull','erlang','exponnorm','f','fatiguelife',\n",
    "                  'gamma','gengamma','gumbel_l','johnsonsb','kappa4',\n",
    "                  'lognorm','nct','norm','norminvgauss','powernorm','rice',\n",
    "                  'recipinvgauss','t','trapz','truncnorm']\n",
    "    dist_results = []\n",
    "    params = {}\n",
    "    for dist_name in dist_names:\n",
    "        dist = getattr(st, dist_name)\n",
    "        param = dist.fit(data)\n",
    "        params[dist_name] = param\n",
    "        # Applying the Kolmogorov-Smirnov test\n",
    "        D, p = st.kstest(data, dist_name, args=param)\n",
    "        print(\"p value for \"+dist_name+\" = \"+str(p))\n",
    "        dist_results.append((dist_name, p))\n",
    "    # select the best fitted distribution\n",
    "    best_dist, best_p = (max(dist_results, key=lambda item: item[1]))\n",
    "    # store the name of the best fit and its p value\n",
    "    print(\"\\nBest fitting distribution: \"+str(best_dist))\n",
    "    print(\"Best p value: \"+ str(best_p))\n",
    "    print(\"Parameters for the best fit: \"+ str(params[best_dist]))\n",
    "    return best_dist, best_p, params[best_dist]"
   ]
  },
  {
   "cell_type": "code",
   "execution_count": 87,
   "id": "55e15b78",
   "metadata": {
    "ExecuteTime": {
     "end_time": "2024-06-17T19:12:26.492491Z",
     "start_time": "2024-06-17T19:12:26.388891Z"
    }
   },
   "outputs": [],
   "source": [
    "total_run_each_year = ipl_bbbc.groupby([\"year\", \"Striker\"])[\"runs_scored\"].sum().reset_index()"
   ]
  },
  {
   "cell_type": "code",
   "execution_count": 88,
   "id": "7ddf1dfe",
   "metadata": {
    "ExecuteTime": {
     "end_time": "2024-06-17T19:13:56.257180Z",
     "start_time": "2024-06-17T19:13:56.244475Z"
    }
   },
   "outputs": [
    {
     "name": "stdout",
     "output_type": "stream",
     "text": [
      "      year          Striker  runs_scored\n",
      "2549  2024       RD Gaikwad          509\n",
      "2589  2024          V Kohli          500\n",
      "2470  2024  B Sai Sudharsan          418\n",
      "2502  2024         KL Rahul          406\n",
      "2555  2024          RR Pant          398\n",
      "...    ...              ...          ...\n",
      "58    2008         L Balaji            0\n",
      "66    2008   M Muralitharan            0\n",
      "75    2008         MM Patel            0\n",
      "107   2008      S Sreesanth            0\n",
      "136   2008           U Kaul            0\n",
      "\n",
      "[2598 rows x 3 columns]\n"
     ]
    }
   ],
   "source": [
    "total_run_each_year.sort_values([\"year\", \"runs_scored\"], ascending=False, inplace=True)\n",
    "print(total_run_each_year)"
   ]
  },
  {
   "cell_type": "code",
   "execution_count": 89,
   "id": "d75c7310",
   "metadata": {
    "ExecuteTime": {
     "end_time": "2024-06-17T19:16:23.864219Z",
     "start_time": "2024-06-17T19:16:23.854326Z"
    }
   },
   "outputs": [],
   "source": [
    "list_top_batsman_last_three_year = {}\n",
    "for i in total_run_each_year[\"year\"].unique()[:3]:\n",
    "    list_top_batsman_last_three_year[i] = total_run_each_year[total_run_each_year.year == i][:3][\"Striker\"].unique().tolist()"
   ]
  },
  {
   "cell_type": "code",
   "execution_count": 90,
   "id": "c5b07d43",
   "metadata": {
    "ExecuteTime": {
     "end_time": "2024-06-17T19:16:29.605035Z",
     "start_time": "2024-06-17T19:16:29.596636Z"
    }
   },
   "outputs": [
    {
     "data": {
      "text/plain": [
       "{2024: ['RD Gaikwad', 'V Kohli', 'B Sai Sudharsan'],\n",
       " 2023: ['Shubman Gill', 'F du Plessis', 'DP Conway'],\n",
       " 2022: ['JC Buttler', 'KL Rahul', 'Q de Kock']}"
      ]
     },
     "execution_count": 90,
     "metadata": {},
     "output_type": "execute_result"
    }
   ],
   "source": [
    "list_top_batsman_last_three_year"
   ]
  },
  {
   "cell_type": "code",
   "execution_count": null,
   "id": "80d9466a",
   "metadata": {
    "ExecuteTime": {
     "end_time": "2024-06-17T19:22:35.982497Z",
     "start_time": "2024-06-17T19:21:10.039474Z"
    }
   },
   "outputs": [
    {
     "name": "stdout",
     "output_type": "stream",
     "text": [
      "************************\n",
      "year: 2024  Batsman: RD Gaikwad\n",
      "p value for alpha = 2.599259711013304e-20\n",
      "p value for beta = 0.02041902689492403\n",
      "p value for betaprime = 0.019503763598668566\n",
      "p value for burr12 = 0.46882020698395865\n",
      "p value for crystalball = 0.24953646987270484\n",
      "p value for dgamma = 0.1570743843120962\n",
      "p value for dweibull = 0.20046582403736823\n",
      "p value for erlang = 1.893799588395604e-06\n",
      "p value for exponnorm = 0.4644304230917985\n",
      "p value for f = 1.3560920695663998e-07\n",
      "p value for fatiguelife = 1.304427037367869e-14\n",
      "p value for gamma = 0.005830868576003678\n",
      "p value for gengamma = 0.015331622187826577\n",
      "p value for gumbel_l = 0.05546236480086586\n",
      "p value for johnsonsb = 4.646964117947127e-13\n",
      "p value for kappa4 = 0.006363220770325362\n",
      "p value for lognorm = 1.1719355665219537e-16\n",
      "p value for nct = 0.5881570496217807\n",
      "p value for norm = 0.24953651809309751\n",
      "p value for norminvgauss = 0.5538573365184996\n",
      "p value for powernorm = 0.1788753268739086\n",
      "p value for rice = 0.18287532184336575\n",
      "p value for recipinvgauss = 0.06459275668874309\n",
      "p value for t = 0.2494021485911212\n",
      "p value for trapz = 7.476391685388162e-13\n",
      "p value for truncnorm = 0.24173236832621992\n",
      "\n",
      "Best fitting distribution: nct\n",
      "Best p value: 0.5881570496217807\n",
      "Parameters for the best fit: (5.718048022849898, 9.399490726283615, -54.25277343780452, 8.497060689079994)\n",
      "\n",
      "\n",
      "\n",
      "************************\n",
      "year: 2024  Batsman: V Kohli\n",
      "p value for alpha = 0.15371704349416937\n",
      "p value for beta = 0.7807091136830002\n",
      "p value for betaprime = 0.15634788776461095\n",
      "p value for burr12 = 0.2201385645469427\n",
      "p value for crystalball = 0.0013439120565839657\n",
      "p value for dgamma = 0.00010919434981556638\n",
      "p value for dweibull = 0.00012533056352014233\n",
      "p value for erlang = 1.7690285330312436e-06\n",
      "p value for exponnorm = 0.19376408619173924\n",
      "p value for f = 2.67581083049327e-28\n",
      "p value for fatiguelife = 0.11580928039819094\n",
      "p value for gamma = 0.00878530144799014\n",
      "p value for gengamma = 0.12789719547406364\n",
      "p value for gumbel_l = 9.544555237684654e-09\n",
      "p value for johnsonsb = 0.6600676697983927\n",
      "p value for kappa4 = 7.270307243307106e-18\n",
      "p value for lognorm = 6.635544190553261e-64\n",
      "p value for nct = 0.1460773085917223\n",
      "p value for norm = 0.0013439146566564463\n",
      "p value for norminvgauss = 0.16537494306738054\n",
      "p value for powernorm = 0.001959224898154651\n",
      "p value for rice = 0.0019496833019799402\n"
     ]
    }
   ],
   "source": [
    "import warnings\n",
    "warnings.filterwarnings('ignore')\n",
    "runs = ipl_bbbc.groupby(['Striker','Match id'])[['runs_scored']].sum().reset_index()\n",
    "\n",
    "for key in list_top_batsman_last_three_year:\n",
    "    for Striker in list_top_batsman_last_three_year[key]:\n",
    "        print(\"************************\")\n",
    "        print(\"year:\", key, \" Batsman:\", Striker)\n",
    "        get_best_distribution(runs[runs[\"Striker\"] == Striker][\"runs_scored\"])\n",
    "        print(\"\\n\\n\")"
   ]
  },
  {
   "cell_type": "code",
   "execution_count": null,
   "id": "2ff8cda8",
   "metadata": {
    "ExecuteTime": {
     "end_time": "2024-06-17T19:22:49.634423Z",
     "start_time": "2024-06-17T19:22:49.547942Z"
    }
   },
   "outputs": [],
   "source": [
    "total_wicket_each_year = ipl_bbbc.groupby([\"year\", \"Bowler\"])[\"wicket_confirmation\"].sum().reset_index()"
   ]
  },
  {
   "cell_type": "code",
   "execution_count": null,
   "id": "b6a46d55",
   "metadata": {
    "ExecuteTime": {
     "end_time": "2024-06-17T19:23:10.311435Z",
     "start_time": "2024-06-17T19:23:10.298595Z"
    }
   },
   "outputs": [],
   "source": [
    "total_wicket_each_year.sort_values([\"year\", \"wicket_confirmation\"], ascending=False, inplace=True)\n",
    "print(total_wicket_each_year)"
   ]
  },
  {
   "cell_type": "code",
   "execution_count": null,
   "id": "837998fd",
   "metadata": {
    "ExecuteTime": {
     "end_time": "2024-06-17T19:24:02.853357Z",
     "start_time": "2024-06-17T19:24:02.840409Z"
    }
   },
   "outputs": [],
   "source": [
    "list_top_bowler_last_three_year = {}\n",
    "for i in total_wicket_each_year[\"year\"].unique()[:3]:\n",
    "    list_top_bowler_last_three_year[i] = total_wicket_each_year[total_wicket_each_year.year == i][:3][\"Bowler\"].unique().tolist()\n",
    "list_top_bowler_last_three_year"
   ]
  },
  {
   "cell_type": "code",
   "execution_count": null,
   "id": "6bab9324",
   "metadata": {
    "ExecuteTime": {
     "end_time": "2024-06-17T19:41:47.739428Z",
     "start_time": "2024-06-17T19:40:24.043467Z"
    },
    "scrolled": true
   },
   "outputs": [],
   "source": [
    "import warnings\n",
    "warnings.filterwarnings('ignore')\n",
    "wickets = ipl_bbbc.groupby(['Bowler','Match id'])[['wicket_confirmation']].sum().reset_index()\n",
    "\n",
    "for key in list_top_bowler_last_three_year:\n",
    "    for bowler in list_top_bowler_last_three_year[key]:\n",
    "        print(\"************************\")\n",
    "        print(\"year:\", key, \" Bowler:\", bowler)\n",
    "        get_best_distribution(wickets[wickets[\"Bowler\"] == bowler][\"wicket_confirmation\"])\n",
    "        print(\"\\n\\n\")"
   ]
  },
  {
   "cell_type": "code",
   "execution_count": null,
   "id": "b41fac3c-7e63-493e-a38e-00d9be8e2751",
   "metadata": {
    "ExecuteTime": {
     "end_time": "2024-06-17T19:41:47.739428Z",
     "start_time": "2024-06-17T19:40:24.043467Z"
    },
    "scrolled": true
   },
   "outputs": [],
   "source": [
    "import warnings\n",
    "warnings.filterwarnings('ignore')\n",
    "wickets = ipl_bbbc.groupby(['Bowler','Match id'])[['wicket_confirmation']].sum().reset_index()\n",
    "\n",
    "for key in list_top_bowler_last_three_year:\n",
    "    for bowler in list_top_bowler_last_three_year[key]:\n",
    "        print(\"************************\")\n",
    "        print(\"year:\", key, \" Bowler:\", bowler)\n",
    "        get_best_distribution(wickets[wickets[\"Bowler\"] == bowler][\"wicket_confirmation\"])\n",
    "        print(\"\\n\\n\")"
   ]
  },
  {
   "cell_type": "code",
   "execution_count": null,
   "id": "e798c68a-2d7f-417b-9385-00bef5f9370d",
   "metadata": {
    "ExecuteTime": {
     "end_time": "2024-06-17T19:41:47.739428Z",
     "start_time": "2024-06-17T19:40:24.043467Z"
    },
    "scrolled": true
   },
   "outputs": [],
   "source": [
    "import warnings\n",
    "warnings.filterwarnings('ignore')\n",
    "wickets = ipl_bbbc.groupby(['Bowler','Match id'])[['wicket_confirmation']].sum().reset_index()\n",
    "\n",
    "for key in list_top_bowler_last_three_year:\n",
    "    for bowler in list_top_bowler_last_three_year[key]:\n",
    "        print(\"************************\")\n",
    "        print(\"year:\", key, \" Bowler:\", bowler)\n",
    "        get_best_distribution(wickets[wickets[\"Bowler\"] == bowler][\"wicket_confirmation\"])\n",
    "        print(\"\\n\\n\")"
   ]
  },
  {
   "cell_type": "code",
   "execution_count": null,
   "id": "0fe50381-bf98-4c0a-af10-566f9ffeadb2",
   "metadata": {},
   "outputs": [],
   "source": [
    "# Filter the runs scored by MS Dhoni\n",
    "MS_Dhoni_runs = runs[runs[\"Striker\"] == \"MS Dhoni\"][\"runs_scored\"]\n",
    "\n",
    "# Fit the distribution to MS DHONI's runs scored\n",
    "get_best_distribution(MS_Dhoni_runs)"
   ]
  },
  {
   "cell_type": "markdown",
   "id": "3738f046",
   "metadata": {
    "ExecuteTime": {
     "end_time": "2024-06-17T19:30:56.139137Z",
     "start_time": "2024-06-17T19:30:56.136008Z"
    }
   },
   "source": [
    "**Relationship between the performance of a player and the salary he gets**"
   ]
  },
  {
   "cell_type": "code",
   "execution_count": null,
   "id": "789ddaf2",
   "metadata": {
    "ExecuteTime": {
     "end_time": "2024-06-17T19:57:30.473869Z",
     "start_time": "2024-06-17T19:57:30.467885Z"
    }
   },
   "outputs": [],
   "source": [
    "R2024 =total_run_each_year[total_run_each_year['year']==2024]"
   ]
  },
  {
   "cell_type": "code",
   "execution_count": null,
   "id": "6ba9a083",
   "metadata": {
    "ExecuteTime": {
     "end_time": "2024-06-17T20:15:26.949292Z",
     "start_time": "2024-06-17T20:15:26.944738Z"
    }
   },
   "outputs": [],
   "source": [
    "pip install fuzzywuzzy"
   ]
  },
  {
   "cell_type": "code",
   "execution_count": null,
   "id": "ccd0c41e",
   "metadata": {
    "ExecuteTime": {
     "end_time": "2024-06-17T20:15:41.651153Z",
     "start_time": "2024-06-17T20:15:33.461692Z"
    }
   },
   "outputs": [],
   "source": [
    "from fuzzywuzzy import process\n",
    "\n",
    "# Convert to DataFrame\n",
    "df_salary = ipl_salary.copy()\n",
    "df_runs = R2024.copy()\n",
    "\n",
    "# Function to match names\n",
    "def match_names(name, names_list):\n",
    "    match, score = process.extractOne(name, names_list)\n",
    "    return match if score >= 80 else None  # Use a threshold score of 80\n",
    "\n",
    "# Create a new column in df_salary with matched names from df_runs\n",
    "df_salary['Matched_Player'] = df_salary['Player'].apply(lambda x: match_names(x, df_runs['Striker'].tolist()))\n",
    "\n",
    "# Merge the DataFrames on the matched names\n",
    "df_merged = pd.merge(df_salary, df_runs, left_on='Matched_Player', right_on='Striker')"
   ]
  },
  {
   "cell_type": "code",
   "execution_count": null,
   "id": "307e8a5f",
   "metadata": {
    "ExecuteTime": {
     "end_time": "2024-06-17T20:08:31.379361Z",
     "start_time": "2024-06-17T20:08:31.346734Z"
    }
   },
   "outputs": [],
   "source": [
    "df_merged.info()"
   ]
  },
  {
   "cell_type": "code",
   "execution_count": null,
   "id": "d24035b7",
   "metadata": {
    "ExecuteTime": {
     "end_time": "2024-06-17T20:08:37.821228Z",
     "start_time": "2024-06-17T20:08:37.774094Z"
    }
   },
   "outputs": [],
   "source": [
    "# Calculate the correlation\n",
    "correlation = df_merged['Rs'].corr(df_merged['runs_scored'])\n",
    "\n",
    "print(\"Correlation between Salary and Runs:\", correlation)"
   ]
  },
  {
   "cell_type": "code",
   "execution_count": null,
   "id": "4fb485cb-6b65-4e6c-83a9-c1c251277241",
   "metadata": {},
   "outputs": [],
   "source": []
  },
  {
   "cell_type": "code",
   "execution_count": null,
   "id": "647a595c-006d-465e-afd0-b9cbad196c33",
   "metadata": {},
   "outputs": [],
   "source": []
  },
  {
   "cell_type": "code",
   "execution_count": null,
   "id": "90ff8087-940a-4440-9c88-fabfcb0d53e6",
   "metadata": {},
   "outputs": [],
   "source": []
  }
 ],
 "metadata": {
  "kernelspec": {
   "display_name": "Python 3 (ipykernel)",
   "language": "python",
   "name": "python3"
  },
  "language_info": {
   "codemirror_mode": {
    "name": "ipython",
    "version": 3
   },
   "file_extension": ".py",
   "mimetype": "text/x-python",
   "name": "python",
   "nbconvert_exporter": "python",
   "pygments_lexer": "ipython3",
   "version": "3.11.7"
  },
  "varInspector": {
   "cols": {
    "lenName": 16,
    "lenType": 16,
    "lenVar": 40
   },
   "kernels_config": {
    "python": {
     "delete_cmd_postfix": "",
     "delete_cmd_prefix": "del ",
     "library": "var_list.py",
     "varRefreshCmd": "print(var_dic_list())"
    },
    "r": {
     "delete_cmd_postfix": ") ",
     "delete_cmd_prefix": "rm(",
     "library": "var_list.r",
     "varRefreshCmd": "cat(var_dic_list()) "
    }
   },
   "types_to_exclude": [
    "module",
    "function",
    "builtin_function_or_method",
    "instance",
    "_Feature"
   ],
   "window_display": false
  }
 },
 "nbformat": 4,
 "nbformat_minor": 5
}
